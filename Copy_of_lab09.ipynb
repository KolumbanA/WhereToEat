{
  "nbformat": 4,
  "nbformat_minor": 0,
  "metadata": {
    "hide_input": false,
    "kernelspec": {
      "display_name": "Python 3",
      "language": "python",
      "name": "python3"
    },
    "language_info": {
      "codemirror_mode": {
        "name": "ipython",
        "version": 3
      },
      "file_extension": ".py",
      "mimetype": "text/x-python",
      "name": "python",
      "nbconvert_exporter": "python",
      "pygments_lexer": "ipython3",
      "version": "3.7.1"
    },
    "colab": {
      "name": "Copy of lab09.ipynb",
      "provenance": [],
      "collapsed_sections": [],
      "include_colab_link": true
    }
  },
  "cells": [
    {
      "cell_type": "markdown",
      "metadata": {
        "id": "view-in-github",
        "colab_type": "text"
      },
      "source": [
        "<a href=\"https://colab.research.google.com/github/KolumbanA/WhereToEat/blob/master/Copy_of_lab09.ipynb\" target=\"_parent\"><img src=\"https://colab.research.google.com/assets/colab-badge.svg\" alt=\"Open In Colab\"/></a>"
      ]
    },
    {
      "cell_type": "markdown",
      "metadata": {
        "id": "uXnfck1X5fzI"
      },
      "source": [
        "# FP-Growth algoritmus\n",
        "\n",
        "\n",
        "\n",
        "----\n"
      ]
    },
    {
      "cell_type": "markdown",
      "metadata": {
        "id": "pfChBnUs5fzJ"
      },
      "source": [
        "Az Apriori algoritmus lentről felfele építkezve, minden lépésben jelölteket generál. A jelöltek száma igencsak nagy lehet és előállításukhoz minden lépésben az adatbázist át kell olvasni.\n",
        "\n",
        "\n",
        "Az [FP-bővítés](https://gyires.inf.unideb.hu/KMITT/a04/ch06s06.html) (angol elnevezése [FP-Growth](https://www.softwaretestinghelp.com/fp-growth-algorithm-data-mining/)-) szintén egy gyakori elemhalmazok kinyerésére szolgáló algoritmus, amely hatékonyabb eredményt képes elérni, mivel nem a generál és tesztel paradigmát követi. Ehelyett az adathalmazt egy kompakt struktúrába sűríti, melynek neve az FP-fa (gyakori mintázatok fája), ezután a gyakori elemhalmazokat közvetlenül ebből a strúktúrából nyerhetőek ki. Az algoritmus csak kétszer kell végigolvassa az adatlhalmazt, elöszőr az elemek támogatottsági szintjének megállapítására, másodszor pedig az FP-fa felépítésére.  "
      ]
    },
    {
      "cell_type": "markdown",
      "metadata": {
        "id": "uQTugELQ5fzL"
      },
      "source": [
        "Az algoritmus egyik Python [implementációja](https://github.com/evandempsey/fp-growth) a [pygrowth](https://pypi.org/project/pygrowth/) csomagban érhető el. \n",
        "\n"
      ]
    },
    {
      "cell_type": "code",
      "metadata": {
        "id": "rWoO-2cQ5oHX",
        "colab": {
          "base_uri": "https://localhost:8080/"
        },
        "outputId": "0d9cf40c-3dff-4d7f-8657-bc0e1b305e72"
      },
      "source": [
        "!pip install pyfpgrowth"
      ],
      "execution_count": null,
      "outputs": [
        {
          "output_type": "stream",
          "text": [
            "Collecting pyfpgrowth\n",
            "\u001b[?25l  Downloading https://files.pythonhosted.org/packages/d2/4c/8b7cd90b4118ff0286d6584909b99e1ca5642bdc9072fa5a8dd361c864a0/pyfpgrowth-1.0.tar.gz (1.6MB)\n",
            "\r\u001b[K     |▏                               | 10kB 13.7MB/s eta 0:00:01\r\u001b[K     |▍                               | 20kB 19.9MB/s eta 0:00:01\r\u001b[K     |▋                               | 30kB 24.2MB/s eta 0:00:01\r\u001b[K     |▉                               | 40kB 27.2MB/s eta 0:00:01\r\u001b[K     |█                               | 51kB 29.5MB/s eta 0:00:01\r\u001b[K     |█▏                              | 61kB 32.2MB/s eta 0:00:01\r\u001b[K     |█▍                              | 71kB 24.2MB/s eta 0:00:01\r\u001b[K     |█▋                              | 81kB 23.9MB/s eta 0:00:01\r\u001b[K     |█▉                              | 92kB 21.5MB/s eta 0:00:01\r\u001b[K     |██                              | 102kB 21.2MB/s eta 0:00:01\r\u001b[K     |██▏                             | 112kB 21.2MB/s eta 0:00:01\r\u001b[K     |██▍                             | 122kB 21.2MB/s eta 0:00:01\r\u001b[K     |██▋                             | 133kB 21.2MB/s eta 0:00:01\r\u001b[K     |██▉                             | 143kB 21.2MB/s eta 0:00:01\r\u001b[K     |███                             | 153kB 21.2MB/s eta 0:00:01\r\u001b[K     |███▏                            | 163kB 21.2MB/s eta 0:00:01\r\u001b[K     |███▍                            | 174kB 21.2MB/s eta 0:00:01\r\u001b[K     |███▋                            | 184kB 21.2MB/s eta 0:00:01\r\u001b[K     |███▉                            | 194kB 21.2MB/s eta 0:00:01\r\u001b[K     |████                            | 204kB 21.2MB/s eta 0:00:01\r\u001b[K     |████▏                           | 215kB 21.2MB/s eta 0:00:01\r\u001b[K     |████▍                           | 225kB 21.2MB/s eta 0:00:01\r\u001b[K     |████▋                           | 235kB 21.2MB/s eta 0:00:01\r\u001b[K     |████▉                           | 245kB 21.2MB/s eta 0:00:01\r\u001b[K     |█████                           | 256kB 21.2MB/s eta 0:00:01\r\u001b[K     |█████▏                          | 266kB 21.2MB/s eta 0:00:01\r\u001b[K     |█████▍                          | 276kB 21.2MB/s eta 0:00:01\r\u001b[K     |█████▋                          | 286kB 21.2MB/s eta 0:00:01\r\u001b[K     |█████▉                          | 296kB 21.2MB/s eta 0:00:01\r\u001b[K     |██████                          | 307kB 21.2MB/s eta 0:00:01\r\u001b[K     |██████▏                         | 317kB 21.2MB/s eta 0:00:01\r\u001b[K     |██████▍                         | 327kB 21.2MB/s eta 0:00:01\r\u001b[K     |██████▋                         | 337kB 21.2MB/s eta 0:00:01\r\u001b[K     |██████▉                         | 348kB 21.2MB/s eta 0:00:01\r\u001b[K     |███████                         | 358kB 21.2MB/s eta 0:00:01\r\u001b[K     |███████▏                        | 368kB 21.2MB/s eta 0:00:01\r\u001b[K     |███████▍                        | 378kB 21.2MB/s eta 0:00:01\r\u001b[K     |███████▋                        | 389kB 21.2MB/s eta 0:00:01\r\u001b[K     |███████▉                        | 399kB 21.2MB/s eta 0:00:01\r\u001b[K     |████████                        | 409kB 21.2MB/s eta 0:00:01\r\u001b[K     |████████▏                       | 419kB 21.2MB/s eta 0:00:01\r\u001b[K     |████████▍                       | 430kB 21.2MB/s eta 0:00:01\r\u001b[K     |████████▋                       | 440kB 21.2MB/s eta 0:00:01\r\u001b[K     |████████▉                       | 450kB 21.2MB/s eta 0:00:01\r\u001b[K     |█████████                       | 460kB 21.2MB/s eta 0:00:01\r\u001b[K     |█████████▏                      | 471kB 21.2MB/s eta 0:00:01\r\u001b[K     |█████████▍                      | 481kB 21.2MB/s eta 0:00:01\r\u001b[K     |█████████▋                      | 491kB 21.2MB/s eta 0:00:01\r\u001b[K     |█████████▉                      | 501kB 21.2MB/s eta 0:00:01\r\u001b[K     |██████████                      | 512kB 21.2MB/s eta 0:00:01\r\u001b[K     |██████████▏                     | 522kB 21.2MB/s eta 0:00:01\r\u001b[K     |██████████▍                     | 532kB 21.2MB/s eta 0:00:01\r\u001b[K     |██████████▋                     | 542kB 21.2MB/s eta 0:00:01\r\u001b[K     |██████████▉                     | 552kB 21.2MB/s eta 0:00:01\r\u001b[K     |███████████                     | 563kB 21.2MB/s eta 0:00:01\r\u001b[K     |███████████▏                    | 573kB 21.2MB/s eta 0:00:01\r\u001b[K     |███████████▍                    | 583kB 21.2MB/s eta 0:00:01\r\u001b[K     |███████████▋                    | 593kB 21.2MB/s eta 0:00:01\r\u001b[K     |███████████▉                    | 604kB 21.2MB/s eta 0:00:01\r\u001b[K     |████████████                    | 614kB 21.2MB/s eta 0:00:01\r\u001b[K     |████████████▏                   | 624kB 21.2MB/s eta 0:00:01\r\u001b[K     |████████████▍                   | 634kB 21.2MB/s eta 0:00:01\r\u001b[K     |████████████▋                   | 645kB 21.2MB/s eta 0:00:01\r\u001b[K     |████████████▊                   | 655kB 21.2MB/s eta 0:00:01\r\u001b[K     |█████████████                   | 665kB 21.2MB/s eta 0:00:01\r\u001b[K     |█████████████▏                  | 675kB 21.2MB/s eta 0:00:01\r\u001b[K     |█████████████▍                  | 686kB 21.2MB/s eta 0:00:01\r\u001b[K     |█████████████▋                  | 696kB 21.2MB/s eta 0:00:01\r\u001b[K     |█████████████▊                  | 706kB 21.2MB/s eta 0:00:01\r\u001b[K     |██████████████                  | 716kB 21.2MB/s eta 0:00:01\r\u001b[K     |██████████████▏                 | 727kB 21.2MB/s eta 0:00:01\r\u001b[K     |██████████████▍                 | 737kB 21.2MB/s eta 0:00:01\r\u001b[K     |██████████████▋                 | 747kB 21.2MB/s eta 0:00:01\r\u001b[K     |██████████████▊                 | 757kB 21.2MB/s eta 0:00:01\r\u001b[K     |███████████████                 | 768kB 21.2MB/s eta 0:00:01\r\u001b[K     |███████████████▏                | 778kB 21.2MB/s eta 0:00:01\r\u001b[K     |███████████████▍                | 788kB 21.2MB/s eta 0:00:01\r\u001b[K     |███████████████▋                | 798kB 21.2MB/s eta 0:00:01\r\u001b[K     |███████████████▊                | 808kB 21.2MB/s eta 0:00:01\r\u001b[K     |████████████████                | 819kB 21.2MB/s eta 0:00:01\r\u001b[K     |████████████████▏               | 829kB 21.2MB/s eta 0:00:01\r\u001b[K     |████████████████▍               | 839kB 21.2MB/s eta 0:00:01\r\u001b[K     |████████████████▋               | 849kB 21.2MB/s eta 0:00:01\r\u001b[K     |████████████████▊               | 860kB 21.2MB/s eta 0:00:01\r\u001b[K     |█████████████████               | 870kB 21.2MB/s eta 0:00:01\r\u001b[K     |█████████████████▏              | 880kB 21.2MB/s eta 0:00:01\r\u001b[K     |█████████████████▍              | 890kB 21.2MB/s eta 0:00:01\r\u001b[K     |█████████████████▋              | 901kB 21.2MB/s eta 0:00:01\r\u001b[K     |█████████████████▊              | 911kB 21.2MB/s eta 0:00:01\r\u001b[K     |██████████████████              | 921kB 21.2MB/s eta 0:00:01\r\u001b[K     |██████████████████▏             | 931kB 21.2MB/s eta 0:00:01\r\u001b[K     |██████████████████▍             | 942kB 21.2MB/s eta 0:00:01\r\u001b[K     |██████████████████▋             | 952kB 21.2MB/s eta 0:00:01\r\u001b[K     |██████████████████▊             | 962kB 21.2MB/s eta 0:00:01\r\u001b[K     |███████████████████             | 972kB 21.2MB/s eta 0:00:01\r\u001b[K     |███████████████████▏            | 983kB 21.2MB/s eta 0:00:01\r\u001b[K     |███████████████████▍            | 993kB 21.2MB/s eta 0:00:01\r\u001b[K     |███████████████████▋            | 1.0MB 21.2MB/s eta 0:00:01\r\u001b[K     |███████████████████▊            | 1.0MB 21.2MB/s eta 0:00:01\r\u001b[K     |████████████████████            | 1.0MB 21.2MB/s eta 0:00:01\r\u001b[K     |████████████████████▏           | 1.0MB 21.2MB/s eta 0:00:01\r\u001b[K     |████████████████████▍           | 1.0MB 21.2MB/s eta 0:00:01\r\u001b[K     |████████████████████▋           | 1.1MB 21.2MB/s eta 0:00:01\r\u001b[K     |████████████████████▊           | 1.1MB 21.2MB/s eta 0:00:01\r\u001b[K     |█████████████████████           | 1.1MB 21.2MB/s eta 0:00:01\r\u001b[K     |█████████████████████▏          | 1.1MB 21.2MB/s eta 0:00:01\r\u001b[K     |█████████████████████▍          | 1.1MB 21.2MB/s eta 0:00:01\r\u001b[K     |█████████████████████▋          | 1.1MB 21.2MB/s eta 0:00:01\r\u001b[K     |█████████████████████▊          | 1.1MB 21.2MB/s eta 0:00:01\r\u001b[K     |██████████████████████          | 1.1MB 21.2MB/s eta 0:00:01\r\u001b[K     |██████████████████████▏         | 1.1MB 21.2MB/s eta 0:00:01\r\u001b[K     |██████████████████████▍         | 1.1MB 21.2MB/s eta 0:00:01\r\u001b[K     |██████████████████████▋         | 1.2MB 21.2MB/s eta 0:00:01\r\u001b[K     |██████████████████████▊         | 1.2MB 21.2MB/s eta 0:00:01\r\u001b[K     |███████████████████████         | 1.2MB 21.2MB/s eta 0:00:01\r\u001b[K     |███████████████████████▏        | 1.2MB 21.2MB/s eta 0:00:01\r\u001b[K     |███████████████████████▍        | 1.2MB 21.2MB/s eta 0:00:01\r\u001b[K     |███████████████████████▋        | 1.2MB 21.2MB/s eta 0:00:01\r\u001b[K     |███████████████████████▊        | 1.2MB 21.2MB/s eta 0:00:01\r\u001b[K     |████████████████████████        | 1.2MB 21.2MB/s eta 0:00:01\r\u001b[K     |████████████████████████▏       | 1.2MB 21.2MB/s eta 0:00:01\r\u001b[K     |████████████████████████▍       | 1.2MB 21.2MB/s eta 0:00:01\r\u001b[K     |████████████████████████▌       | 1.3MB 21.2MB/s eta 0:00:01\r\u001b[K     |████████████████████████▊       | 1.3MB 21.2MB/s eta 0:00:01\r\u001b[K     |█████████████████████████       | 1.3MB 21.2MB/s eta 0:00:01\r\u001b[K     |█████████████████████████▏      | 1.3MB 21.2MB/s eta 0:00:01\r\u001b[K     |█████████████████████████▍      | 1.3MB 21.2MB/s eta 0:00:01\r\u001b[K     |█████████████████████████▌      | 1.3MB 21.2MB/s eta 0:00:01\r\u001b[K     |█████████████████████████▊      | 1.3MB 21.2MB/s eta 0:00:01\r\u001b[K     |██████████████████████████      | 1.3MB 21.2MB/s eta 0:00:01\r\u001b[K     |██████████████████████████▏     | 1.3MB 21.2MB/s eta 0:00:01\r\u001b[K     |██████████████████████████▍     | 1.4MB 21.2MB/s eta 0:00:01\r\u001b[K     |██████████████████████████▌     | 1.4MB 21.2MB/s eta 0:00:01\r\u001b[K     |██████████████████████████▊     | 1.4MB 21.2MB/s eta 0:00:01\r\u001b[K     |███████████████████████████     | 1.4MB 21.2MB/s eta 0:00:01\r\u001b[K     |███████████████████████████▏    | 1.4MB 21.2MB/s eta 0:00:01\r\u001b[K     |███████████████████████████▍    | 1.4MB 21.2MB/s eta 0:00:01\r\u001b[K     |███████████████████████████▌    | 1.4MB 21.2MB/s eta 0:00:01\r\u001b[K     |███████████████████████████▊    | 1.4MB 21.2MB/s eta 0:00:01\r\u001b[K     |████████████████████████████    | 1.4MB 21.2MB/s eta 0:00:01\r\u001b[K     |████████████████████████████▏   | 1.4MB 21.2MB/s eta 0:00:01\r\u001b[K     |████████████████████████████▍   | 1.5MB 21.2MB/s eta 0:00:01\r\u001b[K     |████████████████████████████▌   | 1.5MB 21.2MB/s eta 0:00:01\r\u001b[K     |████████████████████████████▊   | 1.5MB 21.2MB/s eta 0:00:01\r\u001b[K     |█████████████████████████████   | 1.5MB 21.2MB/s eta 0:00:01\r\u001b[K     |█████████████████████████████▏  | 1.5MB 21.2MB/s eta 0:00:01\r\u001b[K     |█████████████████████████████▍  | 1.5MB 21.2MB/s eta 0:00:01\r\u001b[K     |█████████████████████████████▌  | 1.5MB 21.2MB/s eta 0:00:01\r\u001b[K     |█████████████████████████████▊  | 1.5MB 21.2MB/s eta 0:00:01\r\u001b[K     |██████████████████████████████  | 1.5MB 21.2MB/s eta 0:00:01\r\u001b[K     |██████████████████████████████▏ | 1.5MB 21.2MB/s eta 0:00:01\r\u001b[K     |██████████████████████████████▍ | 1.6MB 21.2MB/s eta 0:00:01\r\u001b[K     |██████████████████████████████▌ | 1.6MB 21.2MB/s eta 0:00:01\r\u001b[K     |██████████████████████████████▊ | 1.6MB 21.2MB/s eta 0:00:01\r\u001b[K     |███████████████████████████████ | 1.6MB 21.2MB/s eta 0:00:01\r\u001b[K     |███████████████████████████████▏| 1.6MB 21.2MB/s eta 0:00:01\r\u001b[K     |███████████████████████████████▍| 1.6MB 21.2MB/s eta 0:00:01\r\u001b[K     |███████████████████████████████▌| 1.6MB 21.2MB/s eta 0:00:01\r\u001b[K     |███████████████████████████████▊| 1.6MB 21.2MB/s eta 0:00:01\r\u001b[K     |████████████████████████████████| 1.6MB 21.2MB/s eta 0:00:01\r\u001b[K     |████████████████████████████████| 1.6MB 21.2MB/s \n",
            "\u001b[?25hBuilding wheels for collected packages: pyfpgrowth\n",
            "  Building wheel for pyfpgrowth (setup.py) ... \u001b[?25l\u001b[?25hdone\n",
            "  Created wheel for pyfpgrowth: filename=pyfpgrowth-1.0-py2.py3-none-any.whl size=5477 sha256=f4712511d32483b17cb938c7c4d70e9ded972821abe057b8dab5abbe8cda7f2e\n",
            "  Stored in directory: /root/.cache/pip/wheels/3b/3f/0d/a04bb8b17887c1eca7d0f1a48d4aa0c09c96eb221ff7fa56c1\n",
            "Successfully built pyfpgrowth\n",
            "Installing collected packages: pyfpgrowth\n",
            "Successfully installed pyfpgrowth-1.0\n"
          ],
          "name": "stdout"
        }
      ]
    },
    {
      "cell_type": "markdown",
      "metadata": {
        "id": "r2heZeSllmVl"
      },
      "source": [
        "A gyakori minták meghatározására a `find_frequent_patterns` metódust használjuk míg az asszociációs szabályok kinyerésére a `generate_association_rules`-t. Ezekre építve könnyen definiálhatunk egy függvényt mely adott megakapozotság és megbizhatóság szerint megkeresi egy adathalmazból a kinyeri a gyakori mintákat és asszociációs szabályokat."
      ]
    },
    {
      "cell_type": "code",
      "metadata": {
        "id": "tFSBUmthlnQw"
      },
      "source": [
        "import pyfpgrowth as fpg\n",
        "\n",
        "def mine_fp_growth_association_rules(records, minsup, minconf):\n",
        "    freq_patterns = fpg.find_frequent_patterns(records, minsup * len(records))\n",
        "    rules = fpg.generate_association_rules(freq_patterns, minconf)\n",
        "    return (freq_patterns, rules)\n",
        "\n",
        "# example usage: patterns, rules = mine_fp_growth_association_rules(records, 0.01, 0.1)"
      ],
      "execution_count": null,
      "outputs": []
    },
    {
      "cell_type": "markdown",
      "metadata": {
        "id": "YmiYFeQpp_Ns"
      },
      "source": [
        "# Feladatok\n",
        "\n",
        "1. Olvassa el a következő cikkeket és röviden vázolja fel a fő különbségeket az Apriori és FP-Growth módszerek között, ismertesse az FP-Growth előnyeit és hátrányait:    \n",
        "  - [Az FP-bővítés algoritmus](https://gyires.inf.unideb.hu/KMITT/a04/ch06s06.html)\n",
        "  - [Frequent Pattern (FP) Growth Algorithm In Data Mining](https://www.softwaretestinghelp.com/fp-growth-algorithm-data-mining/)   \n",
        "\n",
        "2. A múlt laborórán megtisztított (`nan`-t nem tartalmazó) adatokra futtassa le az FP-Growth algoritmust, mutassa be a kinyert gyakori mintákat és asszociációs szabályokat.  "
      ]
    },
    {
      "cell_type": "code",
      "metadata": {
        "id": "GVW0EyKww4z4"
      },
      "source": [
        "      FP Growth                                     |                       Apriori\n",
        "--------------------------------------------------------------------------------------------------------------      \n",
        "Gyorsabb mint az apriori                            |            Lassabb mint az FP Growth\n",
        "Array alapu algoritmus                              |                 Fa alapu algoritmus\n",
        "Csak ketszer kell szkenne lni az adathalmazt        |        Tobbszorosen szkennelni kell az adathalmazt\n",
        "depth-first search                                  |                breadth-first search "
      ],
      "execution_count": null,
      "outputs": []
    }
  ]
}